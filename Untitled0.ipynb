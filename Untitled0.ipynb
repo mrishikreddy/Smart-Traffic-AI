{
  "nbformat": 4,
  "nbformat_minor": 0,
  "metadata": {
    "colab": {
      "provenance": []
    },
    "kernelspec": {
      "name": "python3",
      "display_name": "Python 3"
    },
    "language_info": {
      "name": "python"
    }
  },
  "cells": [
    {
      "cell_type": "code",
      "execution_count": null,
      "metadata": {
        "id": "KeB_lttflQNx"
      },
      "outputs": [],
      "source": [
        "from google.colab.patches import cv2_imshow\n",
        "import cv2"
      ]
    },
    {
      "cell_type": "code",
      "source": [
        "haar_cascade = 'cars.xml'\n",
        "video = 'testvideo.mp4'\n",
        "\n",
        "cap = cv2.VideoCapture(video)\n",
        "car_cascade = cv2.CascadeClassifier(haar_cascade)\n",
        "ret, frames = cap.read()\n",
        "gray = cv2.cvtColor(frames, cv2.COLOR_BGR2GRAY)\n",
        "cars = car_cascade.detectMultiScale(gray, 1.1, 1)\n",
        "for (x,y,w,h) in cars:\n",
        "  cv2.rectangle(frames,(x,y),(x+w,y+h),(0,0,255),2)\n",
        "cv2_imshow(frames)\n",
        "while True:\n",
        "    # reads frames from a video\n",
        "    ret, frames = cap.read()\n",
        "\n",
        "    # convert to gray scale of each frames\n",
        "    gray = cv2.cvtColor(frames, cv2.COLOR_BGR2GRAY)\n",
        "\n",
        "\n",
        "    # Detects cars of different sizes in the input image\n",
        "    cars = car_cascade.detectMultiScale(gray, 1.1, 1)\n",
        "\n",
        "    # To draw a rectangle in each cars\n",
        "    for (x,y,w,h) in cars:\n",
        "        cv2.rectangle(frames,(x,y),(x+w,y+h),(0,0,255),2)\n",
        "\n",
        "    # Display frames in a window\n",
        "    cv2_imshow(frames)\n",
        "\n",
        "    # Wait for Esc key to stop\n",
        "    if cv2.waitKey(33) == 27:\n",
        "        break\n",
        "\n",
        "# De-allocate any associated memory usage\n",
        "cv2.destroyAllWindows()"
      ],
      "metadata": {
        "id": "Jjo4JXO_lTHd"
      },
      "execution_count": null,
      "outputs": []
    }
  ]
}